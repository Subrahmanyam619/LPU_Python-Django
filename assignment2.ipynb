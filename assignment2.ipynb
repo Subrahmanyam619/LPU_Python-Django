{
 "cells": [
  {
   "cell_type": "code",
   "execution_count": 1,
   "id": "ef979270",
   "metadata": {},
   "outputs": [
    {
     "name": "stdout",
     "output_type": "stream",
     "text": [
      "Please Enter any Number: 10\n",
      "Natural Numbers from 1 to 10\n",
      "1 2 3 4 5 6 7 8 9 10 \n",
      "Natural numbers in reverse order\n",
      "10 9 8 7 6 5 4 3 2 1 "
     ]
    }
   ],
   "source": [
    "#Q1. Write a program to print all the natural numbers from 1 to n (user input). Then print the same in reverse order.\n",
    "\n",
    "n = int(input(\"Please Enter any Number: \"))\n",
    "print(\"Natural Numbers from 1\", \"to\", n) \n",
    "\n",
    "for i in range(1, n+1):\n",
    "    print (i, end=' ')\n",
    "\n",
    "print(\"\\nNatural numbers in reverse order\")\n",
    "\n",
    "for i in range(n,0,-1):\n",
    "    print (i, end = ' ')"
   ]
  },
  {
   "cell_type": "code",
   "execution_count": 2,
   "id": "cb0f4a32",
   "metadata": {},
   "outputs": [
    {
     "name": "stdout",
     "output_type": "stream",
     "text": [
      "Enter n value100\n",
      "Even numbers for 1 to 100\n",
      "2 4 6 8 10 12 14 16 18 20 22 24 26 28 30 32 34 36 38 40 42 44 46 48 50 52 54 56 58 60 62 64 66 68 70 72 74 76 78 80 82 84 86 88 90 92 94 96 98 100 \n",
      "Odd numbers from 1 to 100\n",
      "1 3 5 7 9 11 13 15 17 19 21 23 25 27 29 31 33 35 37 39 41 43 45 47 49 51 53 55 57 59 61 63 65 67 69 71 73 75 77 79 81 83 85 87 89 91 93 95 97 99 "
     ]
    }
   ],
   "source": [
    "#Q2. Print all odd numbers and even numbers between 1 to 100.\n",
    "\n",
    "n=int(input(\"Enter n value\"))\n",
    "\n",
    "print(\"Even numbers for 1 to\", n)\n",
    "\n",
    "for i in range(1, n+1):\n",
    "    if i % 2 == 0:\n",
    "        print(i, end = ' ')\n",
    "\n",
    "print(\"\\nOdd numbers from 1 to\", n)\n",
    "\n",
    "for i in range(1, n+1):\n",
    "    if i % 2 != 0:\n",
    "        print(i, end = ' ')"
   ]
  },
  {
   "cell_type": "code",
   "execution_count": 51,
   "id": "9ed64de5",
   "metadata": {},
   "outputs": [
    {
     "name": "stdout",
     "output_type": "stream",
     "text": [
      "Enter any number: 10\n",
      "10 is not a prime number\n"
     ]
    }
   ],
   "source": [
    "#Q3. Write a program to check if a number is prime or not. Example: 7 ==> True, 6 ==> False\n",
    "\n",
    "n = int(input(\"Enter any number: \"))\n",
    "\n",
    "if n > 1:\n",
    "    for i in range(2, n):\n",
    "        if (n % i) == 0:\n",
    "            print(n, \"is not a prime number\")\n",
    "            break\n",
    "    else:\n",
    "        print(n, \"is a prime number\")\n",
    "\n",
    "else:\n",
    "    print(n, \"is less than or equal to 1\")"
   ]
  },
  {
   "cell_type": "code",
   "execution_count": 4,
   "id": "c16328c6",
   "metadata": {},
   "outputs": [
    {
     "name": "stdout",
     "output_type": "stream",
     "text": [
      "Enter any value:17\n",
      "3 5 6 9 10 12 15 \n",
      "Sum of the multiplies of both 3 and 5 : 60\n"
     ]
    }
   ],
   "source": [
    "#Q4. Write a program that asks the user for a number n and prints the sum of the numbers 1 to n such that only multiples\n",
    "#of three or five are considered in the sum, e.g. 3, 5, 6, 9, 10, 12, 15 for n=17.\n",
    "\n",
    "n = int(input(\"Enter any value:\"))\n",
    "sum=0\n",
    "\n",
    "for i in range(1, n+1):\n",
    "    if i % 3 ==0 or i % 5 ==0:\n",
    "        print(i, end = ' ')\n",
    "        sum += i\n",
    "\n",
    "print(\"\\nSum of the multiplies of both 3 and 5 :\", sum)"
   ]
  },
  {
   "cell_type": "code",
   "execution_count": 5,
   "id": "390df1c5",
   "metadata": {},
   "outputs": [
    {
     "name": "stdout",
     "output_type": "stream",
     "text": [
      "Enter any value:5\n",
      "1 2 3 4 5 \n",
      "Sum of values: 15\n",
      "product of values: 120\n"
     ]
    }
   ],
   "source": [
    "#Q5. Write a program that asks the user for a number n and gives them the possibility to choose between computing the\n",
    "#sum and computing the product of 1,…,n.\n",
    "\n",
    "n = int(input(\"Enter any value:\"))\n",
    "sum = 0\n",
    "product = 1\n",
    "\n",
    "for i in range(1, n+1):\n",
    "    print(i, end = ' ')\n",
    "    sum += i\n",
    "    product *= i\n",
    "\n",
    "print(\"\\nSum of values:\", sum)\n",
    "print(\"product of values:\", product)"
   ]
  },
  {
   "cell_type": "code",
   "execution_count": 30,
   "id": "93e4d8bb",
   "metadata": {},
   "outputs": [
    {
     "name": "stdout",
     "output_type": "stream",
     "text": [
      "Sum of all values which are multiples of both 3 and 5 below 1000: 233168\n"
     ]
    }
   ],
   "source": [
    "#Q6. Find the sum of all the multiples of 3 or 5 below 1000.\n",
    "\n",
    "n = 1000\n",
    "sum = 0\n",
    "\n",
    "for i in range(1, n):\n",
    "    if i % 3 == 0 or i % 5 ==0:\n",
    "        sum += i\n",
    "\n",
    "print(\"Sum of all values which are multiples of both 3 and 5 below 1000:\", sum)"
   ]
  },
  {
   "cell_type": "code",
   "execution_count": 28,
   "id": "156f8b40",
   "metadata": {},
   "outputs": [
    {
     "name": "stdout",
     "output_type": "stream",
     "text": [
      "2002 2009 2016 2023 2037 2044 2051 2058 2072 2079 2086 2093 2107 2114 2121 2128 2142 2149 2156 2163 2177 2184 2191 2198 2212 2219 2226 2233 2247 2254 2261 2268 2282 2289 2296 2303 2317 2324 2331 2338 2352 2359 2366 2373 2387 2394 2401 2408 2422 2429 2436 2443 2457 2464 2471 2478 2492 2499 2506 2513 2527 2534 2541 2548 2562 2569 2576 2583 2597 2604 2611 2618 2632 2639 2646 2653 2667 2674 2681 2688 2702 2709 2716 2723 2737 2744 2751 2758 2772 2779 2786 2793 2807 2814 2821 2828 2842 2849 2856 2863 2877 2884 2891 2898 2912 2919 2926 2933 2947 2954 2961 2968 2982 2989 2996 3003 3017 3024 3031 3038 3052 3059 3066 3073 3087 3094 3101 3108 3122 3129 3136 3143 3157 3164 3171 3178 3192 3199 "
     ]
    }
   ],
   "source": [
    "#Q7 Write a program which will find all such numbers which are divisible by 7 but are not a multiple of 5,\n",
    "#between 2000 and 3200 (both included)\n",
    "\n",
    "for i in range(2000, 3201):\n",
    "    if i % 7 == 0 and i % 5 != 0:\n",
    "        print(i, end = ' ')\n",
    "        "
   ]
  },
  {
   "cell_type": "code",
   "execution_count": 62,
   "id": "dd2b4a3d",
   "metadata": {},
   "outputs": [
    {
     "name": "stdout",
     "output_type": "stream",
     "text": [
      "The difference between the sum of the squares and sqaure of the sum  25164150\n"
     ]
    }
   ],
   "source": [
    "#Q8. Find the difference between the sum of the squares of the first one hundred natural numbers and the square of the sum.\n",
    "\n",
    "s=0\n",
    "sum_of_squ=0\n",
    "\n",
    "for i in range(1,101):\n",
    "    s+=i\n",
    "    sum_of_squ+=(i**2)\n",
    "d=(s**2) - sum_of_squ\n",
    "print(\"The difference between the sum of the squares and sqaure of the sum \", d)\n"
   ]
  },
  {
   "cell_type": "code",
   "execution_count": 8,
   "id": "ad226a2f",
   "metadata": {},
   "outputs": [
    {
     "name": "stdout",
     "output_type": "stream",
     "text": [
      "Enter any value:5\n",
      "Factorial of the 5 is 120\n"
     ]
    }
   ],
   "source": [
    "#Q9. Write a program which can compute the factorial of a given number.\n",
    "\n",
    "n = int(input(\"Enter any value:\"))\n",
    "fact = 1\n",
    "\n",
    "if n < 0:\n",
    "    print(\"Factorials does not exist for negative value\")\n",
    "elif n == 0:\n",
    "    print(\"Zero factorial is 1\")\n",
    "else:\n",
    "    for i in range(1, n+1):\n",
    "        fact = fact*i\n",
    "        \n",
    "print(\"Factorial of the\",n,\"is\",fact)\n",
    "        "
   ]
  },
  {
   "cell_type": "code",
   "execution_count": 9,
   "id": "353e92b7",
   "metadata": {},
   "outputs": [
    {
     "name": "stdout",
     "output_type": "stream",
     "text": [
      "1 \n",
      "2 2 \n",
      "3 3 3 \n",
      "4 4 4 4 \n",
      "5 5 5 5 5 \n"
     ]
    }
   ],
   "source": [
    "#Q10. Pattern:\n",
    "\n",
    "n =5\n",
    "for i in range(1,n+1):\n",
    "    for j in range(1, i+1):\n",
    "        print(i,end = \" \")\n",
    "    print()"
   ]
  },
  {
   "cell_type": "code",
   "execution_count": 14,
   "id": "7fee7e0d",
   "metadata": {},
   "outputs": [
    {
     "name": "stdout",
     "output_type": "stream",
     "text": [
      "Enter a number:5\n",
      "5 5 5 5 5 \n",
      "5 4 4 4 5 \n",
      "5 4 3 4 5 \n",
      "5 4 4 4 5 \n",
      "5 5 5 5 5 \n"
     ]
    }
   ],
   "source": [
    "n = int(input(\"Enter a number:\"))\n",
    "for i in range(n):\n",
    "    for j in range(n):\n",
    "        print(max(i+1, j+1, n-i, n-j), end = \" \")\n",
    "    print()"
   ]
  },
  {
   "cell_type": "code",
   "execution_count": 11,
   "id": "41648693",
   "metadata": {},
   "outputs": [
    {
     "name": "stdout",
     "output_type": "stream",
     "text": [
      "*\n",
      "**\n",
      "***\n",
      "****\n",
      "*****\n"
     ]
    }
   ],
   "source": [
    "n =5\n",
    "for i in range(1,n+1):\n",
    "    print(\"*\"*i,end = \"\\n\")"
   ]
  },
  {
   "cell_type": "code",
   "execution_count": 12,
   "id": "f37508a4",
   "metadata": {},
   "outputs": [
    {
     "name": "stdout",
     "output_type": "stream",
     "text": [
      "****\n",
      "***\n",
      "**\n",
      "*\n"
     ]
    }
   ],
   "source": [
    "n = 4\n",
    "for i in range(n,0,-1):\n",
    "    print(\"*\"*i,end = \"\\n\")"
   ]
  },
  {
   "cell_type": "code",
   "execution_count": 13,
   "id": "5e4ccac2",
   "metadata": {},
   "outputs": [
    {
     "name": "stdout",
     "output_type": "stream",
     "text": [
      "#####\n",
      "#####\n",
      "#####\n",
      "#####\n",
      "#####\n"
     ]
    }
   ],
   "source": [
    "n= 5\n",
    "for i in range(5):\n",
    "    print(\"#\"*n)"
   ]
  },
  {
   "cell_type": "code",
   "execution_count": 41,
   "id": "22547a48",
   "metadata": {},
   "outputs": [
    {
     "name": "stdout",
     "output_type": "stream",
     "text": [
      "Enter the any number : 9\n",
      "Enter number of digits : 4\n",
      "9 + 99 + 999 + 9999  =  11106\n"
     ]
    }
   ],
   "source": [
    "#Q11. Write a program that computes the value of a+aa+aaa+aaaa with a given digit as the value of a.\n",
    "#Suppose the following input is supplied to the program: 9, Then, the output should be: 9 + 99 + 999 + 9999 = 11106\n",
    "\n",
    "a = int(input(\"Enter the any number : \"))\n",
    "b = int(input(\"Enter number of digits : \"))\n",
    "\n",
    "sum = 0\n",
    "for i in range(1,b+1):\n",
    "    n1 = int(\"%s\"% (a))\n",
    "    n2 = int(\"%s%s\"% (a,a))\n",
    "    n3= int(\"%s%s%s\"% (a,a,a))\n",
    "    n4 = int(\"%s%s%s%s\"% (a,a,a,a))\n",
    "    sum = n1 + n2 + n3 + n4\n",
    "print(n1,\"+\",n2,\"+\",n3,\"+\",n4,\" = \",sum)"
   ]
  },
  {
   "cell_type": "code",
   "execution_count": 19,
   "id": "51b61b0e",
   "metadata": {},
   "outputs": [
    {
     "name": "stdout",
     "output_type": "stream",
     "text": [
      "Enter the String :subbu\n",
      "Length of the string 5\n"
     ]
    }
   ],
   "source": [
    "#Q12. Find the length of a string using loops (not len()).\n",
    "\n",
    "str = input(\"Enter the String :\")\n",
    "n = 0\n",
    "for i in str:\n",
    "    n += 1\n",
    "print(\"Length of the string\",n)"
   ]
  },
  {
   "cell_type": "code",
   "execution_count": 21,
   "id": "c21c2963",
   "metadata": {},
   "outputs": [
    {
     "name": "stdout",
     "output_type": "stream",
     "text": [
      "Enter the String :My name is subbu619\n",
      "Letters in string :  13\n",
      "Digits  in string :  3\n"
     ]
    }
   ],
   "source": [
    "#Q13. Write a program that accepts a sentence (string) and calculate \n",
    "#the number of letters and digits. Example: ‘this is a test sentence number 389’ ==> letters = 25 and digits = 3.\n",
    "\n",
    "string = input(\"Enter the String :\")\n",
    "letters = 0\n",
    "digits = 0\n",
    "for i in string:\n",
    "    if i.isdigit():\n",
    "        digits += 1\n",
    "    elif i.isalpha():\n",
    "        letters += 1\n",
    "print(\"Letters in string : \", letters)\n",
    "print(\"Digits  in string : \", digits)"
   ]
  },
  {
   "cell_type": "code",
   "execution_count": 57,
   "id": "1fff6e88",
   "metadata": {},
   "outputs": [
    {
     "name": "stdout",
     "output_type": "stream",
     "text": [
      "Enter a string: subbu\n",
      "Uppercase:  SUBBU\n"
     ]
    }
   ],
   "source": [
    "#14. Write a program that accepts a string and outputs the string with all capital letters.\n",
    "#Example: ‘hello’ ==> ‘HELLO’. (using loop)\n",
    "\n",
    "str = input(\"Enter a string: \")\n",
    "upper=''\n",
    "for i in range(len(str)):\n",
    "    if (str[i]>='a' and str[i]<='z'):\n",
    "        upper=upper+chr((ord(str[i]) - 32))\n",
    "    else:\n",
    "        upper=upper+str[i]\n",
    "print(\"Uppercase: \",upper)"
   ]
  },
  {
   "cell_type": "code",
   "execution_count": 33,
   "id": "badb5c2f",
   "metadata": {},
   "outputs": [
    {
     "name": "stdout",
     "output_type": "stream",
     "text": [
      "Enter any string: My Name Is Subbu\n",
      "Number of uppercase letters:  4\n",
      "Number of lowercase letters:  9\n"
     ]
    }
   ],
   "source": [
    "#Q15. Write a program that accepts a sentence and calculate the number of upper case letters and lower case letters.\n",
    "\n",
    "str = input(\"Enter any string: \")\n",
    "upper = 0\n",
    "lower = 0\n",
    "for i in str:\n",
    "    if(i.isupper()):\n",
    "        upper+=1\n",
    "    if(i.islower()):\n",
    "        lower+=1\n",
    "print(\"Number of uppercase letters: \",upper)\n",
    "print(\"Number of lowercase letters: \",lower)"
   ]
  },
  {
   "cell_type": "code",
   "execution_count": 42,
   "id": "cbff89fa",
   "metadata": {},
   "outputs": [
    {
     "name": "stdout",
     "output_type": "stream",
     "text": [
      "Enter any string: subbu\n",
      "Enter any character: b\n",
      "Occurrences of  b is:  2\n"
     ]
    }
   ],
   "source": [
    "#Q16. Write a program that counts the occurrence of a character in a string. Example: ‘This is a test string.’ count of i = 3.\n",
    "\n",
    "str = input(\"Enter any string: \")\n",
    "char = input(\"Enter any character: \")\n",
    "count = 0\n",
    "for i in str:\n",
    "    if(i == char):\n",
    "        count+=1\n",
    "print(\"Occurrences of \",char,\"is: \",count)"
   ]
  },
  {
   "cell_type": "code",
   "execution_count": 38,
   "id": "9f7b338b",
   "metadata": {},
   "outputs": [
    {
     "name": "stdout",
     "output_type": "stream",
     "text": [
      "Enter any string: sos\n",
      "Given string is Palindrome\n"
     ]
    }
   ],
   "source": [
    "#Q17. Write a program to find if a given string is a palindrome or not.\n",
    "\n",
    "str = input(\"Enter any string: \")\n",
    "str_rev = str[::-1]\n",
    "if(str == str_rev):\n",
    "    print(\"Given string is Palindrome\")\n",
    "else:\n",
    "    print(\"Given string string is Non-Palindrome\")"
   ]
  },
  {
   "cell_type": "code",
   "execution_count": 46,
   "id": "798bed5b",
   "metadata": {},
   "outputs": [
    {
     "name": "stdout",
     "output_type": "stream",
     "text": [
      "Enter String1 : subbu\n",
      "Enter String2 : bu\n",
      "Substring of s1\n"
     ]
    }
   ],
   "source": [
    "#Q18. Write a program which accepts two strings s1 and s2 and checks if s2 is a substring of s1.\n",
    "\n",
    "s1=input(\"Enter String1 : \")\n",
    "s2=input(\"Enter String2 : \")\n",
    "\n",
    "if (s1.find(s2) == -1):\n",
    "    print(\"Not a substring of s1\")\n",
    "else:\n",
    "    print(\"Substring of s1\")\n",
    "\n",
    "\n"
   ]
  },
  {
   "cell_type": "code",
   "execution_count": 47,
   "id": "60d927d0",
   "metadata": {},
   "outputs": [
    {
     "name": "stdout",
     "output_type": "stream",
     "text": [
      "At least 1 letter between [a-z]\n",
      "At least 1 number between [0-9]\n",
      "At least 1 letter between [@$#%&]\n",
      "Enter username: subbu619\n",
      "Enter password: P@55word\n",
      "valid password\n"
     ]
    }
   ],
   "source": [
    "\n",
    "#Q19. Make a password validator with the following checks. A website requires the users to input username and password \n",
    "#to register. Write a program to check the validity of password input by users.\n",
    "#\n",
    "#   Following are the criteria for checking the password:\n",
    "#1. At least  1 letter between [a-z]     \n",
    "#2. At least 1 number between [0-9]     \n",
    "#3. At least 1 letter between [@$#%&]\n",
    "\n",
    "print(\"At least 1 letter between [a-z]\")\n",
    "print(\"At least 1 number between [0-9]\")\n",
    "print(\"At least 1 letter between [@$#%&]\")\n",
    "username=input(\"Enter username: \")\n",
    "password=input(\"Enter password: \")\n",
    "letter=0\n",
    "number=0\n",
    "spl=\"@$#%&\"\n",
    "sym=0\n",
    "for i in password:\n",
    "    if(i.isalpha()):\n",
    "        letter+=1\n",
    "    if(i.isdigit()):\n",
    "        number+=1\n",
    "    if(i in spl):\n",
    "        sym+=1\n",
    "if(letter>=1 and number>=1 and sym>=1):\n",
    "    print(\"valid password\")\n",
    "else:\n",
    "    print(\"invaild password\")"
   ]
  },
  {
   "cell_type": "code",
   "execution_count": 63,
   "id": "8aa39d64",
   "metadata": {},
   "outputs": [
    {
     "name": "stdout",
     "output_type": "stream",
     "text": [
      "Vowels are :  a e o u  \n"
     ]
    }
   ],
   "source": [
    "#Q20. s = \"Hello how are you all\". For this given string write a code such that it prints the vowels present in the \n",
    "#string s if any.ex: \"i\", \"a\" etc.\n",
    "\n",
    "s = \"Hello how are you all\"\n",
    "vowels = \"aeiou AEIOU\"\n",
    "a = []\n",
    "for i in vowels:\n",
    "    if i in s and i not in a:\n",
    "        a.append(i)\n",
    "print(\"Vowels are : \", *a)"
   ]
  },
  {
   "cell_type": "code",
   "execution_count": null,
   "id": "47b95a8a",
   "metadata": {},
   "outputs": [],
   "source": []
  }
 ],
 "metadata": {
  "kernelspec": {
   "display_name": "Python 3",
   "language": "python",
   "name": "python3"
  },
  "language_info": {
   "codemirror_mode": {
    "name": "ipython",
    "version": 3
   },
   "file_extension": ".py",
   "mimetype": "text/x-python",
   "name": "python",
   "nbconvert_exporter": "python",
   "pygments_lexer": "ipython3",
   "version": "3.8.6"
  }
 },
 "nbformat": 4,
 "nbformat_minor": 5
}
