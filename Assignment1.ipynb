{
 "cells": [
  {
   "cell_type": "code",
   "execution_count": 3,
   "id": "7a47c173",
   "metadata": {},
   "outputs": [
    {
     "name": "stdout",
     "output_type": "stream",
     "text": [
      "Length Of String is 23 \n",
      " ['Hey', 'i', 'am', 'from', 'New', 'Delhi']\n"
     ]
    }
   ],
   "source": [
    "#Q1.  From this given string: s = \"Hey i am from New Delhi\".\n",
    "#Find out: length of string, convert this to list using split operation.\n",
    "\n",
    "s= \"Hey i am from New Delhi\"\n",
    "print(\"Length Of String is\",len(s),\"\\n\",s.split())"
   ]
  },
  {
   "cell_type": "code",
   "execution_count": 4,
   "id": "854a6683",
   "metadata": {},
   "outputs": [
    {
     "name": "stdout",
     "output_type": "stream",
     "text": [
      "Name is rahul\n",
      "Rame Is Rahul\n",
      "NAME IS RAHUL\n"
     ]
    }
   ],
   "source": [
    "#Q2.Given string s = \"name is rahul\". Write code to give following o/p.\n",
    "#- \"Name is rahul\"\n",
    "#-  \"Rame Is Rahul\"\n",
    "#-  \"NAME IS RAHUL\"\n",
    "\n",
    "s=\"name is rahul\"\n",
    "print(s.capitalize())\n",
    "\n",
    "x=s.replace(\"n\", \"R\")\n",
    "print(x.title())\n",
    "\n",
    "print(s.upper())\n"
   ]
  },
  {
   "cell_type": "code",
   "execution_count": 5,
   "id": "c97d83a0",
   "metadata": {},
   "outputs": [
    {
     "name": "stdout",
     "output_type": "stream",
     "text": [
      "Enter length Of Rectangle =2\n",
      "Enter  Breadth Of Rectangle = 4\n",
      "Area of Rectangle = 8\n",
      "Perimeter of Rectangle = 12\n"
     ]
    }
   ],
   "source": [
    "#Q3. Using length and breadth as input\n",
    "#find out area and perimeter of a given rectangle\n",
    "\n",
    "length=int(input(\"Enter length Of Rectangle =\"))\n",
    "bre=int(input(\"Enter  Breadth Of Rectangle = \"))\n",
    "print(\"Area of Rectangle =\", length*bre)\n",
    "print(\"Perimeter of Rectangle =\",2*(length+bre))"
   ]
  },
  {
   "cell_type": "code",
   "execution_count": 6,
   "id": "84838c1c",
   "metadata": {},
   "outputs": [
    {
     "name": "stdout",
     "output_type": "stream",
     "text": [
      "Enter a valthe Diameter of circle : 10\n",
      "radius of the circle = 5\n",
      "Circumference of Circle = 31.41\n",
      "area of circle= 78.5\n"
     ]
    }
   ],
   "source": [
    "#Q4. Using diameter as input find out circumference and area of a circle.\n",
    "\n",
    "Diameter=int(input(\"Enter a valthe Diameter of circle : \"))\n",
    "radius=Diameter//2\n",
    "print(\"radius of the circle =\", radius)\n",
    "print(\"Circumference of Circle =\",2*3.141*radius)\n",
    "print(\"area of circle=\", 3.14*radius*radius)"
   ]
  },
  {
   "cell_type": "code",
   "execution_count": 7,
   "id": "dd3e5548",
   "metadata": {},
   "outputs": [
    {
     "name": "stdout",
     "output_type": "stream",
     "text": [
      "Enter the value a=1\n",
      "Enter the value of b=5\n",
      "Enter the value of c=6\n",
      "roots of this quadratic equation : -2.0 -3.0\n"
     ]
    }
   ],
   "source": [
    "#Q5. Write a program to compute roots of a quadratic equation when coefficients\n",
    "#a, b and c are known(entered by user).\n",
    "\n",
    "a=int(input(\"Enter the value a=\"))\n",
    "b=int(input(\"Enter the value of b=\"))\n",
    "c=int(input(\"Enter the value of c=\")) \n",
    "print(\"roots of this quadratic equation :\",(-b +(b**2-4*a*c)**0.5)/(2*a),(-b -(b**2-4*a*c)**0.5)/(2*a))"
   ]
  },
  {
   "cell_type": "code",
   "execution_count": 8,
   "id": "ee81cb70",
   "metadata": {},
   "outputs": [
    {
     "name": "stdout",
     "output_type": "stream",
     "text": [
      "Enter radius of the sphere=6\n",
      "Volume of the Sphere = 904.752\n"
     ]
    }
   ],
   "source": [
    "#Q6. Find volume of a sphere using radius as input.\n",
    "\n",
    "radius=int(input(\"Enter radius of the sphere=\"))\n",
    "print(\"Volume of the Sphere =\", (4/3)*(3.1415)*(radius**3))"
   ]
  },
  {
   "cell_type": "code",
   "execution_count": 11,
   "id": "1c0d00a2",
   "metadata": {},
   "outputs": [
    {
     "name": "stdout",
     "output_type": "stream",
     "text": [
      "Enter the desired number : 12345678\n",
      "Number of Digits :  8\n"
     ]
    }
   ],
   "source": [
    "#Q7. Count the  number of digits in a number. Example: 3454 has 4 digits.\n",
    "\n",
    "num=int(input(\"Enter the desired number : \"))\n",
    "print(\"Number of Digits : \",len(str(num)))"
   ]
  },
  {
   "cell_type": "code",
   "execution_count": 9,
   "id": "54d788cb",
   "metadata": {},
   "outputs": [
    {
     "name": "stdout",
     "output_type": "stream",
     "text": [
      "Enter any string =subbu\n",
      "SUBBU\n"
     ]
    }
   ],
   "source": [
    "#Q8. Write a program that accepts a string and gives output\n",
    "#string with all capital letters.\n",
    "\n",
    "string=input(\"Enter any string =\")\n",
    "print(string.upper())"
   ]
  },
  {
   "cell_type": "code",
   "execution_count": 12,
   "id": "1d9f2041",
   "metadata": {},
   "outputs": [
    {
     "name": "stdout",
     "output_type": "stream",
     "text": [
      "Enter any string =subbu\n",
      "Enter the index that you want to replace =0\n",
      "Enter the character to be replaced=S\n",
      "S u b b u\n"
     ]
    }
   ],
   "source": [
    "#Q9. Write a program to that accepts a string s, an index number n\n",
    "#and a character ‘c’. And outputs the string replaced with the character\n",
    "#at the index number n. Example- ‘hello’ , 0 , ‘j’ ==> ‘jello’.\n",
    "#Hint2: You can try it by join function too by typecasting it to list)\n",
    "\n",
    "string=input(\"Enter any string =\")\n",
    "s=list(string)\n",
    "n=int(input(\"Enter the index that you want to replace =\"))\n",
    "c=input(\"Enter the character to be replaced=\")\n",
    "s[n]=c\n",
    "print(\" \".join(s))"
   ]
  },
  {
   "cell_type": "code",
   "execution_count": 10,
   "id": "942cd13f",
   "metadata": {},
   "outputs": [
    {
     "name": "stdout",
     "output_type": "stream",
     "text": [
      "Enter any string =subbu\n",
      "ubbus\n"
     ]
    }
   ],
   "source": [
    "#Q10. Reverse a string. Example: 'Hey there' = 'ereht yeH'\n",
    "string=input(\"Enter any string =\")\n",
    "print(string[::-1])"
   ]
  }
 ],
 "metadata": {
  "kernelspec": {
   "display_name": "Python 3",
   "language": "python",
   "name": "python3"
  },
  "language_info": {
   "codemirror_mode": {
    "name": "ipython",
    "version": 3
   },
   "file_extension": ".py",
   "mimetype": "text/x-python",
   "name": "python",
   "nbconvert_exporter": "python",
   "pygments_lexer": "ipython3",
   "version": "3.8.6"
  }
 },
 "nbformat": 4,
 "nbformat_minor": 5
}
